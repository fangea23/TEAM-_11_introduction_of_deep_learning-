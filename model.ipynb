{
 "cells": [
  {
   "cell_type": "code",
   "execution_count": null,
   "id": "dfbca533",
   "metadata": {
    "tags": []
   },
   "outputs": [],
   "source": [
    "import pandas as pd\n",
    "from sklearn.model_selection import train_test_split\n",
    "CNV_df = pd.read_csv(\"/Users/oo/Desktop/final omics data/CNV.csv\")\n",
    "CNV_df = CNV_df.iloc[:, 1:]"
   ]
  },
  {
   "cell_type": "code",
   "execution_count": null,
   "id": "50cf4bae",
   "metadata": {},
   "outputs": [],
   "source": [
    "mRNA_df = pd.read_csv(\"/Users/oo/Desktop/final omics data/mRNA.csv\")\n",
    "mRNA_df = mRNA_df.iloc[:, 1:]\n",
    "mRNA_df"
   ]
  },
  {
   "cell_type": "code",
   "execution_count": null,
   "id": "f6c88641",
   "metadata": {
    "scrolled": true
   },
   "outputs": [],
   "source": [
    "DNAm_df = pd.read_csv(\"/Users/oo/Desktop/final omics data/DNAm.csv\")\n",
    "DNAm_df = DNAm_df.iloc[:, 1:]"
   ]
  },
  {
   "cell_type": "code",
   "execution_count": null,
   "id": "dc95e5e0",
   "metadata": {
    "scrolled": true
   },
   "outputs": [],
   "source": [
    "miRNA_df = pd.read_csv(\"/Users/oo/Desktop/final omics data/miRNA.csv\")\n",
    "miRNA_df = miRNA_df.iloc[:, 1:]"
   ]
  },
  {
   "cell_type": "code",
   "execution_count": null,
   "id": "e6634a58",
   "metadata": {},
   "outputs": [],
   "source": [
    "mRNA_df.iloc[:, 4:].value_counts()"
   ]
  },
  {
   "cell_type": "code",
   "execution_count": null,
   "id": "8e96d554",
   "metadata": {},
   "outputs": [],
   "source": [
    "CNV_df[CNV_df['duration'] != 0].iloc[:, 4:]\n",
    "mRNA_df[mRNA_df['duration'] != 0].iloc[:, 4:]\n",
    "miRNA_df[miRNA_df['duration'] != 0].iloc[:, 4:]\n",
    "DNAm_df[DNAm_df['duration'] != 0].iloc[:, 4:]"
   ]
  },
  {
   "cell_type": "code",
   "execution_count": null,
   "id": "b23052c3",
   "metadata": {},
   "outputs": [],
   "source": [
    "from sklearn.preprocessing import normalize\n",
    "import warnings\n",
    "import numpy as np\n",
    "warnings.filterwarnings('ignore')\n",
    "mRNA_temp_df = mRNA_df.iloc[:, 4:]\n",
    "miRNA_temp_df = miRNA_df.iloc[:, 4:]\n",
    "DNAm_temp_df = DNAm_df.iloc[:, 4:]\n",
    "CNV_temp_df = CNV_df.iloc[:, 4:]\n",
    "\n",
    "mRNA_norm = normalize(mRNA_temp_df, axis=0)\n",
    "miRNA_norm = normalize(miRNA_temp_df, axis=0)\n",
    "DNAm_norm = normalize(DNAm_temp_df, axis=0)\n",
    "CNV_norm = normalize(CNV_temp_df, axis=0)\n",
    "omics_data = pd.DataFrame(np.hstack([mRNA_norm, miRNA_norm, DNAm_norm, CNV_norm]))\n",
    "clinical_data = mRNA_df.iloc[:, :4]\n",
    "omics_data"
   ]
  },
  {
   "cell_type": "markdown",
   "id": "4cd0c2ad",
   "metadata": {},
   "source": [
    "# Modeling"
   ]
  },
  {
   "cell_type": "code",
   "execution_count": null,
   "id": "78bb785c",
   "metadata": {},
   "outputs": [],
   "source": [
    "from sklearn.preprocessing import StandardScaler\n",
    "from sklearn.model_selection import train_test_split\n",
    "from keras.models import Sequential, Model\n",
    "from keras.layers import Dense, Activation, Input, Dropout, BatchNormalization, LeakyReLU\n",
    "from keras.regularizers import l1_l2\n",
    "from keras.optimizers import Adam\n",
    "import warnings\n",
    "warnings.filterwarnings('ignore')"
   ]
  },
  {
   "cell_type": "code",
   "execution_count": null,
   "id": "69fd017c",
   "metadata": {},
   "outputs": [],
   "source": [
    "input_dim = omics_data.shape[1]\n",
    "input_layer = Input(shape=(input_dim,))\n",
    "encoded = Dense(1000, activation='relu', activity_regularizer=l1_l2(l1=0.001, l2=0.0001))(input_layer)\n",
    "# encoded = LeakyReLU(alpha=0.01)(encoded)\n",
    "encoded = Dropout(0.5)(encoded)\n",
    "# encoded = BatchNormalization()(encoded)\n",
    "encoder_output = Dense(500, activation='relu', activity_regularizer=l1_l2(l1=0.001, l2=0.0001), )(encoded)\n",
    "# encoder_output = LeakyReLU(alpha=0.01)(encoder_output)\n",
    "# encoder_output = Dropout(0.5)(encoder_output)\n",
    "# encoder_output = BatchNormalization()(encoder_output)\n",
    "decoded = Dense(1000, activation='relu',activity_regularizer=l1_l2(l1=0.001, l2=0.0001))(encoder_output)\n",
    "# decoded = LeakyReLU(alpha=0.01)(decoded)\n",
    "decoded = Dropout(0.5)(decoded)\n",
    "# decoded = BatchNormalization()(decoded)\n",
    "\n",
    "decoder_output = Dense(input_dim, activation='tanh')(decoded)\n",
    "autoencoder = Model(input_layer, decoder_output)\n",
    "encoder = Model(input_layer, encoder_output)\n",
    "\n",
    "autoencoder.compile(optimizer=Adam(learning_rate=0.001), loss='binary_crossentropy', metrics=['mse'])\n",
    "history = autoencoder.fit(omics_data, omics_data,\n",
    "                epochs=3,\n",
    "                batch_size=16,\n",
    "                validation_split=0.3\n",
    "           )\n",
    "bottleneck_feat = encoder.predict(omics_data)\n",
    "print(bottleneck_feat.shape)\n",
    "print('0 ratio:', (bottleneck_feat == 0).sum() / (407*500))\n",
    "encoder_df = pd.DataFrame(bottleneck_feat)\n",
    "encoder_df"
   ]
  },
  {
   "cell_type": "code",
   "execution_count": null,
   "id": "800e9de0",
   "metadata": {},
   "outputs": [],
   "source": [
    "from sklearn.cluster import KMeans\n",
    "kmeans = KMeans(n_clusters=2, random_state=42)\n",
    "kmeans = kmeans.fit(encoder_df)\n",
    "label = kmeans.predict(encoder_df)\n",
    "encoder_df['label'] = label\n",
    "final_data = pd.concat([clinical_data, encoder_df], axis=1)\n",
    "final_feats = final_data.iloc[:, 2:]"
   ]
  },
  {
   "cell_type": "code",
   "execution_count": null,
   "id": "81c5c60c",
   "metadata": {
    "scrolled": true
   },
   "outputs": [],
   "source": [
    "significant_features = []\n",
    "from lifelines import CoxPHFitter\n",
    "cph = CoxPHFitter()\n",
    "\n",
    "coxPH_data = pd.concat([clinical_data[['vital_status', 'duration']], encoder_df], axis=1)\n",
    "coxPH_data['vital_status'] = coxPH_data['vital_status'].astype('int')\n",
    "np.random.seed(42)\n",
    "numbers = np.arange(2, 502)\n",
    "np.random.shuffle(numbers)\n",
    "for i in numbers:\n",
    "    \n",
    "    cph.fit(coxPH_data.iloc[:, [0, 1, i]], duration_col='duration', event_col='vital_status',)\n",
    "    summary = cph.summary\n",
    "    # print(summary.index)\n",
    "    if summary.loc[i-2, 'p'] < 0.05:\n",
    "        significant_features.append((i-2, summary.loc[i-2, 'p']))\n",
    "        \n",
    "significant_features_df = pd.DataFrame(significant_features, columns=['Feature', 'P_Value'])\n",
    "# significant_features_df.sort_values('Feature')\n",
    "# coxPH_data\n",
    "significant_features_df.shape\n",
    "# cph.fit(coxPH_data.iloc[:, [0, 1, 20]], duration_col='duration', event_col='vital_status')\n",
    "# coxPH_data.iloc[:, [0, 1, 23]]"
   ]
  },
  {
   "cell_type": "code",
   "execution_count": null,
   "id": "355824ee",
   "metadata": {},
   "outputs": [],
   "source": [
    "selected_feat = pd.concat([clinical_data[['case_submitter_id', 'vital_status', 'duration']], encoder_df[significant_features_df['Feature']]], axis=1)\n",
    "selected_feat = selected_feat[selected_feat['duration'] != 0].reset_index(drop=True)\n",
    "selected_feat.to_csv(\"/Users/oo/Desktop/final omics data/selected_feat.csv\")\n"
   ]
  },
  {
   "cell_type": "code",
   "execution_count": null,
   "id": "885936aa",
   "metadata": {},
   "outputs": [],
   "source": [
    "selected_feat = pd.read_csv(\"/Users/oo/Desktop/final omics data/selected_feat.csv\", index_col=0)\n",
    "selected_feat.iloc[:, 3:]"
   ]
  },
  {
   "cell_type": "code",
   "execution_count": null,
   "id": "056cd0b3",
   "metadata": {},
   "outputs": [],
   "source": [
    "final_feats = pd.read_csv(\"/Users/oo/Desktop/final omics data/final_feats.csv\", index_col=0)\n",
    "final_feats\n"
   ]
  },
  {
   "cell_type": "code",
   "execution_count": null,
   "id": "50ac8a9b",
   "metadata": {},
   "outputs": [],
   "source": [
    "from sklearn.cluster import KMeans\n",
    "from sklearn.metrics import silhouette_score\n",
    "import matplotlib.pyplot as plt\n",
    "import pandas as pd\n",
    "final_feats = pd.read_csv(\"/Users/oo/Desktop/final omics data/final_feats.csv\")\n",
    "final_feats = final_feats.iloc[:, 1:]\n",
    "\n",
    "selected_feat = pd.read_csv(\"/Users/oo/Desktop/final omics data/selected_feat.csv\")\n",
    "selected_feat = selected_feat.rename(columns = {'Unnamed: 0' : 'label'})\n",
    "kmeans = KMeans(n_clusters=2, random_state=42)\n",
    "kmeans = kmeans.fit(final_feats)\n",
    "label = kmeans.predict(final_feats)\n",
    "selected_feat['label'] = label\n",
    "# selected_feat = selected_feat.drop(columns=['case_submitter_id'])\n",
    "selected_feat.reset_index(drop=True, inplace=True)\n",
    "final_feats = pd.concat([selected_feat[['label', 'vital_status', 'duration']], final_feats], axis=1)\n",
    "final_feats['label'].value_counts()\n"
   ]
  },
  {
   "cell_type": "code",
   "execution_count": null,
   "id": "98a05eba",
   "metadata": {},
   "outputs": [],
   "source": [
    "final_feats = pd.read_csv(\"/Users/oo/Desktop/final omics data/final_feats.csv\")\n",
    "final_feats = final_feats.iloc[:, 1:]\n",
    "final_feats"
   ]
  },
  {
   "cell_type": "code",
   "execution_count": null,
   "id": "80ffbd1e",
   "metadata": {},
   "outputs": [],
   "source": [
    "silhouette_scores = []\n",
    "for n_clusters in range(2, 10):\n",
    "    kmeans = KMeans(n_clusters=n_clusters, random_state=42).fit(final_feats)\n",
    "    score = silhouette_score(final_feats, kmeans.labels_)\n",
    "    silhouette_scores.append(score)\n",
    "\n",
    "plt.plot(range(2, 10), silhouette_scores)\n",
    "plt.title('Silhouette Scores')\n",
    "plt.xlabel('Number of clusters')\n",
    "plt.ylabel('Silhouette Score')\n",
    "plt.show()"
   ]
  },
  {
   "cell_type": "code",
   "execution_count": null,
   "id": "70292e55",
   "metadata": {},
   "outputs": [],
   "source": [
    "from lifelines import KaplanMeierFitter\n",
    "from lifelines.utils import concordance_index\n",
    "from lifelines.statistics import logrank_test\n",
    "from lifelines import CoxPHFitter\n",
    "\n",
    "kmf1 = KaplanMeierFitter()\n",
    "kmf2 = KaplanMeierFitter()\n",
    "cph1 = CoxPHFitter()\n",
    "cph2 = CoxPHFitter()\n",
    "\n",
    "\n",
    "\n",
    "g1 = final_feats[final_feats['label'] == 0]\n",
    "g2 = final_feats[final_feats['label'] == 1]\n",
    "\n",
    "\n",
    "\n",
    "duration_1 = g1['duration']\n",
    "duration_2 = g2['duration']\n",
    "\n",
    "event_1 = g1['vital_status']\n",
    "event_2 = g2['vital_status']\n",
    "\n",
    "cph1.fit(g1.drop(columns='label'), event_col='vital_status', duration_col='duration')\n",
    "cph2.fit(g2.drop(columns='label'), event_col='vital_status', duration_col='duration')\n",
    "\n",
    "\n",
    "kmf1.fit(duration_1, event_1)\n",
    "kmf2.fit(duration_2, event_2)\n",
    "\n",
    "\n",
    "results = logrank_test(duration_1, duration_2, event_observed_A=event_1, event_observed_B=event_2)\n",
    "p_value = results.p_value\n",
    "\n",
    "c_index_1 = concordance_index(duration_1, -cph1.predict_partial_hazard(g1), event_1)\n",
    "c_index_2 = concordance_index(duration_2, -cph2.predict_partial_hazard(g2), event_2)\n",
    "c_index = (c_index_1 + c_index_2) / 2\n",
    "print(f'log-rank P-value: {p_value}')\n",
    "print(f'C-index: {c_index}\\nC-index1: {c_index_1}\\nC-index2: {c_index_2}')\n"
   ]
  },
  {
   "cell_type": "code",
   "execution_count": null,
   "id": "e1bc4900",
   "metadata": {},
   "outputs": [],
   "source": [
    "from lifelines import KaplanMeierFitter\n",
    "import matplotlib.pyplot as plt\n",
    "kmf = KaplanMeierFitter()\n",
    "# plt.figure(figsize=(12, 8))\n",
    "for i in range(2):\n",
    "    cluster_data = final_feats[final_feats['label'] == i]\n",
    "    \n",
    "    kmf.fit(cluster_data['duration'], event_observed=cluster_data['vital_status'], label=f'G{i+1}(n={cluster_data.shape[0]})')\n",
    "    kmf.plot_survival_function()\n",
    "    \n",
    "\n",
    "# plt.figtext(0.6, 0.7, f\"log-rank P-value: {p_value:.2e}\\nC-index: {c_index:.2}\", fontsize=10)\n",
    "plt.title('Kaplan-Meier Curves by Cluster')\n",
    "plt.xlabel('Time')\n",
    "plt.ylabel('Survival Probability')\n",
    "plt.show()"
   ]
  },
  {
   "cell_type": "code",
   "execution_count": null,
   "id": "4b4a866a",
   "metadata": {},
   "outputs": [],
   "source": [
    "final_feats.to_csv('/Users/oo/Desktop/final omics data/omics_data.csv')"
   ]
  },
  {
   "cell_type": "code",
   "execution_count": null,
   "id": "1c7d66a5",
   "metadata": {},
   "outputs": [],
   "source": [
    "final_feats = pd.read_csv(\"/Users/oo/Desktop/final omics data/omics_data.csv\")\n",
    "final_feats"
   ]
  },
  {
   "cell_type": "code",
   "execution_count": null,
   "id": "6cd56072",
   "metadata": {},
   "outputs": [],
   "source": [
    "final_CNV_df = CNV_df[CNV_df['duration'] != 0].drop(columns='case_id').reset_index(drop=True)\n",
    "final_mRNA_df = mRNA_df[mRNA_df['duration'] != 0].drop(columns='case_id').reset_index(drop=True)\n",
    "final_miRNA_df = miRNA_df[miRNA_df['duration'] != 0].drop(columns='case_id').reset_index(drop=True)\n",
    "final_DNAm_df = DNAm_df[DNAm_df['duration'] != 0].drop(columns='case_id').reset_index(drop=True)"
   ]
  },
  {
   "cell_type": "code",
   "execution_count": null,
   "id": "d0c48634",
   "metadata": {},
   "outputs": [],
   "source": [
    "final2_CNV_df = pd.concat([final_feats['label'], final_CNV_df], axis=1)\n",
    "final2_mRNA_df = pd.concat([final_feats['label'], final_mRNA_df], axis=1)\n",
    "final2_miRNA_df = pd.concat([final_feats['label'], final_miRNA_df], axis=1)\n",
    "final2_DNAm_df = pd.concat([final_feats['label'], final_DNAm_df], axis=1)\n"
   ]
  },
  {
   "cell_type": "code",
   "execution_count": null,
   "id": "a9534540",
   "metadata": {},
   "outputs": [],
   "source": [
    "final2_CNV_df.to_csv(\"/Users/oo/Desktop/final omics data/validation data/CNV.csv\")\n",
    "final2_mRNA_df.to_csv(\"/Users/oo/Desktop/final omics data/validation data/mRNA.csv\")\n",
    "final2_miRNA_df.to_csv(\"/Users/oo/Desktop/final omics data/validation data/miRNA.csv\")\n",
    "final2_DNAm_df.to_csv(\"/Users/oo/Desktop/final omics data/validation data/DNAm.csv\")\n"
   ]
  }
 ],
 "metadata": {
  "kernelspec": {
   "display_name": "Python 3.10 (tensorflow)",
   "language": "python",
   "name": "tensorflow"
  },
  "language_info": {
   "codemirror_mode": {
    "name": "ipython",
    "version": 3
   },
   "file_extension": ".py",
   "mimetype": "text/x-python",
   "name": "python",
   "nbconvert_exporter": "python",
   "pygments_lexer": "ipython3",
   "version": "3.10.13"
  }
 },
 "nbformat": 4,
 "nbformat_minor": 5
}
