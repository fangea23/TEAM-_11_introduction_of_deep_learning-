{
 "cells": [
  {
   "cell_type": "code",
   "execution_count": null,
   "id": "96def7af",
   "metadata": {},
   "outputs": [],
   "source": [
    "import pandas as pd\n",
    "anno = pd.read_csv(\"/Users/oo/Desktop/multi_omics_data/anno.csv\", usecols=['Name', 'Relation_to_Island', 'UCSC_RefGene_Name', 'UCSC_RefGene_Group'])\n",
    "new_anno = anno[anno['Relation_to_Island'] == 'Island'].dropna(axis=0, how='any').reset_index(drop=True)\n",
    "tss_region = new_anno[new_anno['UCSC_RefGene_Group'].str.contains(\"TSS1500|TSS200\",na=False)].reset_index(drop=True)\n",
    "tss_region = tss_region.rename(columns={\"Name\": \"ProbeID\"})\n",
    "tss_region = tss_region[['ProbeID', 'UCSC_RefGene_Name', 'UCSC_RefGene_Group']]\n",
    "tss_region\n",
    "def combine(r):\n",
    "    gene_name = r['UCSC_RefGene_Name'].split(';')\n",
    "    gene_group = r['UCSC_RefGene_Group'].split(';')\n",
    "    kinds = set()\n",
    "    for i in range(len(gene_name)):\n",
    "        if gene_group[i] == 'TSS1500' or gene_group[i] == 'TSS200':\n",
    "            kinds.add(gene_name[i])\n",
    "\n",
    "    return list(kinds)\n",
    "\n",
    "tss_region['combined'] = tss_region.apply(combine, axis=1)\n",
    "filtered_tss_region = pd.DataFrame(tss_region.explode(\"combined\", ignore_index=True).groupby(\"combined\")['ProbeID'].apply(list)).reset_index(names=\"gene\")\n",
    "\n",
    "# filtered_tss_region"
   ]
  },
  {
   "cell_type": "code",
   "execution_count": null,
   "id": "70bea7b2",
   "metadata": {},
   "outputs": [],
   "source": [
    "import pandas as pd\n",
    "DNAmm_df = pd.read_csv(\"/Users/oo/Desktop/1208/independent testing data/final_DNAm_df.csv\")\n",
    "clinical_df = DNAmm_df.iloc[:, :4]\n",
    "clinical_df = clinical_df.drop(columns='Unnamed: 0')\n",
    "DNAmm_df = DNAmm_df.iloc[:, 4:]"
   ]
  },
  {
   "cell_type": "code",
   "execution_count": null,
   "id": "bb4b534e",
   "metadata": {},
   "outputs": [],
   "source": [
    "# DNAmm_df = pd.read_csv(\"/Users/oo/Desktop/multi_omics_data/DNAmm.csv\")\n",
    "unique_genes = filtered_tss_region['gene'].unique()\n",
    "final_DNAm = pd.DataFrame(columns=filtered_tss_region['gene'], index=DNAmm_df.index)\n",
    "for gene in unique_genes:\n",
    "    probe_ids = filtered_tss_region[filtered_tss_region['gene'] == gene]['ProbeID'].values[0]\n",
    "#     print(probe_ids)\n",
    "#     print(DNAmm_df.loc[:, DNAmm_df.columns.isin(['cg02230017'])].values)\n",
    "#     print(DNAmm_df.loc[:, DNAmm_df.columns.isin(['cg00008713'])].values)\n",
    "    all_values = DNAmm_df.loc[:, DNAmm_df.columns.isin(probe_ids)].values\n",
    "    if all_values.size > 0:\n",
    "        final_DNAm[gene] = DNAmm_df.loc[:, DNAmm_df.columns.isin(probe_ids)].mean(axis=1)\n",
    "    \n",
    "    \n",
    "DNAm_gene_level = final_DNAm.dropna(axis=1)\n",
    "DNAm_gene_level\n",
    "# DNAm_gene_level.to_csv(\"/Users/oo/Desktop/1208/independent testing data/final_DNAm_df.csv\")"
   ]
  },
  {
   "cell_type": "code",
   "execution_count": null,
   "id": "55e15851",
   "metadata": {},
   "outputs": [],
   "source": [
    "DNAm_gene_level\n",
    "final_DNAm_df = pd.concat([clinical_df, DNAm_gene_level], axis=1)\n",
    "final_DNAm_df.to_csv(\"/Users/oo/Desktop/1208/independent testing data/final_DNAm_df.csv\")"
   ]
  }
 ],
 "metadata": {
  "kernelspec": {
   "display_name": "Python 3.10 (tensorflow)",
   "language": "python",
   "name": "tensorflow"
  },
  "language_info": {
   "codemirror_mode": {
    "name": "ipython",
    "version": 3
   },
   "file_extension": ".py",
   "mimetype": "text/x-python",
   "name": "python",
   "nbconvert_exporter": "python",
   "pygments_lexer": "ipython3",
   "version": "3.10.13"
  }
 },
 "nbformat": 4,
 "nbformat_minor": 5
}
